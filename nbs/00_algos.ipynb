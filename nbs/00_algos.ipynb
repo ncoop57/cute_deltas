{
 "cells": [
  {
   "cell_type": "code",
   "execution_count": null,
   "metadata": {},
   "outputs": [],
   "source": [
    "# default_exp algos\n"
   ]
  },
  {
   "cell_type": "markdown",
   "metadata": {},
   "source": [
    "# Algorithms\n",
    "\n",
    "> This module contains the different delta algorithm implementations this library supports."
   ]
  },
  {
   "cell_type": "code",
   "execution_count": null,
   "metadata": {},
   "outputs": [],
   "source": [
    "#hide\n",
    "import numpy as np\n",
    "\n",
    "from nbdev.showdoc import *"
   ]
  },
  {
   "cell_type": "code",
   "execution_count": null,
   "metadata": {},
   "outputs": [],
   "source": [
    "# export\n",
    "\n",
    "# This code was taken from https://gist.github.com/kylebgorman/1081951/bce3de986e4b05fc0b63d4d9e0cfa4bde6664365\n",
    "def _dist(A, B, insertion, deletion, substitution):\n",
    "    D = np.zeros((len(A) + 1, len(B) + 1))\n",
    "    for i in range(len(A)): \n",
    "        D[i + 1][0] = D[i][0] + deletion\n",
    "    for j in range(len(B)): \n",
    "        D[0][j + 1] = D[0][j] + insertion\n",
    "    for i in range(len(A)): # fill out middle of matrix\n",
    "        for j in range(len(B)):\n",
    "            if A[i] == B[j]:\n",
    "                D[i + 1][j + 1] = D[i][j] # aka, it's free. \n",
    "            else:\n",
    "                D[i + 1][j + 1] = min(D[i + 1][j] + insertion,\n",
    "                                      D[i][j + 1] + deletion,\n",
    "                                      D[i][j]     + substitution)\n",
    "    return D\n",
    "\n",
    "def levenshtein_distance(l1, l2, normalize=False):\n",
    "    dist = _dist(l1, l2, 1, 1, 1)[-1][-1]\n",
    "    if normalize:\n",
    "        return 1. - dist / max(len(l1), len(l2))\n",
    "    else:\n",
    "        return dist"
   ]
  },
  {
   "cell_type": "code",
   "execution_count": null,
   "metadata": {},
   "outputs": [],
   "source": [
    "levenshtein_distance(\"hi\", \"hidd\", normalize=True)"
   ]
  },
  {
   "cell_type": "code",
   "execution_count": null,
   "metadata": {},
   "outputs": [],
   "source": [
    "# export\n",
    "# implementation inspired from https://yunjinhan.github.io/2017/04/n-gram-overlap\n",
    "\n",
    "def _n_grams(l, n):\n",
    "    grams = []\n",
    "    for i in range(0, len(l) + 1 - n):\n",
    "        grams.append(l[i:i + n])\n",
    "\n",
    "    return grams\n",
    "\n",
    "def n_gram_overlap(l1, l2, n, normalize=False):\n",
    "    l1_grams = _n_grams(l1, n)\n",
    "    l2_grams = _n_grams(l2, n)\n",
    "\n",
    "    overlap = len(set(l1_grams) & set(l2_grams))\n",
    "    if normalize:\n",
    "        return overlap / max(len(l1_grams), len(l2_grams))\n",
    "    else:\n",
    "        return overlap"
   ]
  },
  {
   "cell_type": "code",
   "execution_count": null,
   "metadata": {},
   "outputs": [],
   "source": [
    "n_gram_overlap(\"hi\", \"hi\", 2, normalize=True)"
   ]
  },
  {
   "cell_type": "code",
   "execution_count": null,
   "metadata": {},
   "outputs": [],
   "source": [
    "# export\n",
    "\n",
    "# from geeksforgeeks: https://www.geeksforgeeks.org/longest-common-substring-dp-29/\n",
    "def _longest_common_substring(X, Y, m, n):\n",
    "    LCSuff = [[0 for k in range(n+1)] for l in range(m+1)]\n",
    " \n",
    "    # To store the length of\n",
    "    # longest common substring\n",
    "    result = 0\n",
    " \n",
    "    # Following steps to build\n",
    "    # LCSuff[m+1][n+1] in bottom up fashion\n",
    "    for i in range(m + 1):\n",
    "        for j in range(n + 1):\n",
    "            if (i == 0 or j == 0):\n",
    "                LCSuff[i][j] = 0\n",
    "            elif (X[i-1] == Y[j-1]):\n",
    "                LCSuff[i][j] = LCSuff[i-1][j-1] + 1\n",
    "                result = max(result, LCSuff[i][j])\n",
    "            else:\n",
    "                LCSuff[i][j] = 0\n",
    "    return result\n",
    "\n",
    "def longest_common_substring(l1, l2, normalize=False):\n",
    "    lcs = _longest_common_substring(l1, l2, len(l1), len(l2))\n",
    "    if normalize:\n",
    "        return lcs / max(len(l1), len(l2))\n",
    "    else:\n",
    "        return lcs"
   ]
  },
  {
   "cell_type": "code",
   "execution_count": null,
   "metadata": {},
   "outputs": [
    {
     "data": {
      "text/plain": "0.5"
     },
     "execution_count": null,
     "metadata": {},
     "output_type": "execute_result"
    }
   ],
   "source": [
    "longest_common_substring(\"hi\", \"hiya\", normalize=True)"
   ]
  },
  {
   "cell_type": "code",
   "execution_count": null,
   "metadata": {},
   "outputs": [
    {
     "name": "stdout",
     "output_type": "stream",
     "text": [
      "Converted 00_algos.ipynb.\n",
      "Converted index.ipynb.\n"
     ]
    }
   ],
   "source": [
    "# hide\n",
    "from nbdev.export import notebook2script; notebook2script()"
   ]
  },
  {
   "cell_type": "code",
   "execution_count": null,
   "metadata": {},
   "outputs": [],
   "source": []
  }
 ],
 "metadata": {
  "kernelspec": {
   "display_name": "Python 3.8.5 64-bit",
   "name": "python385jvsc74a57bd0e7370f93d1d0cde622a1f8e1c04877d8463912d04d973331ad4851f04de6915a"
  }
 },
 "nbformat": 4,
 "nbformat_minor": 2
}
