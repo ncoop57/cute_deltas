{
 "cells": [
  {
   "cell_type": "code",
   "execution_count": null,
   "metadata": {},
   "outputs": [],
   "source": [
    "# default_exp algos\n"
   ]
  },
  {
   "cell_type": "markdown",
   "metadata": {},
   "source": [
    "# Algorithms\n",
    "\n",
    "> This module contains the different delta algorithm implementations this library supports."
   ]
  },
  {
   "cell_type": "code",
   "execution_count": 1,
   "metadata": {},
   "outputs": [],
   "source": [
    "#hide\n",
    "import numpy as np\n",
    "\n",
    "from nbdev.showdoc import *"
   ]
  },
  {
   "cell_type": "code",
   "execution_count": 9,
   "metadata": {},
   "outputs": [],
   "source": [
    "# export\n",
    "\n",
    "# This code was taken from https://gist.github.com/kylebgorman/1081951/bce3de986e4b05fc0b63d4d9e0cfa4bde6664365\n",
    "def _dist(A, B, insertion, deletion, substitution):\n",
    "    D = np.zeros((len(A) + 1, len(B) + 1))\n",
    "    for i in range(len(A)): \n",
    "        D[i + 1][0] = D[i][0] + deletion\n",
    "    for j in range(len(B)): \n",
    "        D[0][j + 1] = D[0][j] + insertion\n",
    "    for i in range(len(A)): # fill out middle of matrix\n",
    "        for j in range(len(B)):\n",
    "            if A[i] == B[j]:\n",
    "                D[i + 1][j + 1] = D[i][j] # aka, it's free. \n",
    "            else:\n",
    "                D[i + 1][j + 1] = min(D[i + 1][j] + insertion,\n",
    "                                      D[i][j + 1] + deletion,\n",
    "                                      D[i][j]     + substitution)\n",
    "    return D\n",
    "\n",
    "def levenshtein_distance(l1, l2, normalize=False):\n",
    "    dist = _dist(l1, l2, 1, 1, 1)[-1][-1]\n",
    "    if normalize:\n",
    "        return 1. - dist / max(len(l1), len(l2))\n",
    "    else:\n",
    "        return dist"
   ]
  },
  {
   "cell_type": "code",
   "execution_count": 13,
   "metadata": {},
   "outputs": [
    {
     "data": {
      "text/plain": "0.5"
     },
     "execution_count": 13,
     "metadata": {},
     "output_type": "execute_result"
    }
   ],
   "source": [
    "levenshtein_distance(\"hi\", \"hidd\", normalize=True)"
   ]
  },
  {
   "cell_type": "code",
   "execution_count": 14,
   "metadata": {},
   "outputs": [
    {
     "name": "stdout",
     "output_type": "stream",
     "text": [
      "Converted 00_core.ipynb.\n",
      "Converted index.ipynb.\n"
     ]
    }
   ],
   "source": [
    "# hide\n",
    "from nbdev.export import notebook2script; notebook2script()"
   ]
  },
  {
   "cell_type": "code",
   "execution_count": null,
   "metadata": {},
   "outputs": [],
   "source": []
  }
 ],
 "metadata": {
  "kernelspec": {
   "display_name": "Python 3.8.5 64-bit",
   "name": "python385jvsc74a57bd0e7370f93d1d0cde622a1f8e1c04877d8463912d04d973331ad4851f04de6915a"
  },
  "language_info": {
   "codemirror_mode": {
    "name": "ipython",
    "version": 3
   },
   "file_extension": ".py",
   "mimetype": "text/x-python",
   "name": "python",
   "nbconvert_exporter": "python",
   "pygments_lexer": "ipython3",
   "version": "3.8.5-final"
  },
  "metadata": {
   "interpreter": {
    "hash": "e7370f93d1d0cde622a1f8e1c04877d8463912d04d973331ad4851f04de6915a"
   }
  }
 },
 "nbformat": 4,
 "nbformat_minor": 2
}